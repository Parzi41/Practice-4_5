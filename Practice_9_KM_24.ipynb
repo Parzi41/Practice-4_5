{
  "cells": [
    {
      "cell_type": "markdown",
      "metadata": {
        "id": "FMqboNwO4rVs"
      },
      "source": [
        "# **Курс \"Програмування на мові Python\"**"
      ]
    },
    {
      "cell_type": "markdown",
      "metadata": {
        "id": "A2T6MigL5Z06"
      },
      "source": [
        "## **Практичне зайняття №9**\n",
        "\n",
        "### Тема: \"Робота з функціями. Локальні та глобальні змінні\""
      ]
    },
    {
      "cell_type": "markdown",
      "metadata": {
        "id": "cfCdgK2zXm7e"
      },
      "source": [
        "### **Завдання 1 (3 бали)**\n",
        "\n",
        "**Підрахувати визначник матриці, використовуючи правило перестановок.**\n",
        "\n",
        "Функція random_matrix() призначена для створення квадратної матриці випадкових чисел. Її змінювати непотрібно.\n",
        "\n",
        "Приклад використання методу permutations() для створення списку перестановок також подається у комірці з кодом.\n",
        "\n",
        "1) Створити 3 функції: функцію створення списку перестановок, функцію підрахунку добутків та функцію підрахунку загальної суми.\n",
        "\n",
        "2) Кожна функція має супроводжуватись рядком документації, що буде коротко описувати її призначення.\n",
        "\n",
        "3) Розмірність квадратної матриці має вводитись користувачем з клавіатури. Підрахунки виконувати лише в тому разі, якщо користувач введе ціле додатне число.\n",
        "\n",
        "4) Загальний результат повинен підраховуватись за допомогою композиції функцій.\n",
        "\n",
        "За бажанням можна перевірити правильність роботи програми за допомогою функції np.linalg.det(a)."
      ]
    },
    {
      "cell_type": "code",
      "execution_count": 13,
      "metadata": {
        "id": "ifNX2M7LXm7f"
      },
      "outputs": [
        {
          "name": "stdout",
          "output_type": "stream",
          "text": [
            "[[6 1 9]\n",
            " [4 6 8]\n",
            " [5 8 3]]\n",
            "--------------------------------------------------------------------------------\n",
            "det A =  -230\n"
          ]
        }
      ],
      "source": [
        "import numpy as np\n",
        "import itertools\n",
        "import math\n",
        "import functools\n",
        "\n",
        "def random_matrix(dim):\n",
        "    \"\"\"\n",
        "    The function generates dim x dim array of integers\n",
        "    between 0 and 10.\n",
        "    \"\"\"\n",
        "    matrix = np.random.randint(10, size = (dim, dim))\n",
        "    return matrix\n",
        "\n",
        "def check_input():\n",
        "    '''\n",
        "    The function check the values entered from the console\n",
        "    '''\n",
        "    check = False\n",
        "    while not check:\n",
        "        i = int(input(\"Enter matrix size: \"))\n",
        "        if i > 0:\n",
        "            check = True\n",
        "        else:\n",
        "            print(\"Enter correct data: \")\n",
        "    return i\n",
        "\n",
        "\n",
        "def permutate_list(size, matrix):\n",
        "    '''\n",
        "    The function of creating a list of matrix element permutation\n",
        "    '''\n",
        "\n",
        "    reshuffle = math.factorial(size)\n",
        "    \n",
        "    arr = []\n",
        "    list_of_sign = []\n",
        "    permutate_list = []\n",
        "    \n",
        "    for i in range(size):\n",
        "        arr.append(str(i))\n",
        "\n",
        "    arr = tuple(map(int, arr))\n",
        "    tmp = list(itertools.permutations(arr, size))\n",
        "    tmp = list(map(list, tmp))\n",
        "\n",
        "    for elem in tmp:\n",
        "        count = 0\n",
        "        index = 1\n",
        "\n",
        "        for i in range(len(elem)):\n",
        "            for s in range(i):\n",
        "                if elem[s] > elem[i]:\n",
        "                    count += 1\n",
        "\n",
        "        if count % 2 == 0 or count == 0:\n",
        "            list_of_sign.append(index)\n",
        "        else:\n",
        "            list_of_sign.append((-1)*(index))\n",
        "    \n",
        "    for j in range(reshuffle):\n",
        "        intermediate_list = []   \n",
        "\n",
        "        for i in range(size):\n",
        "            intermediate_list.append(matrix[i][tmp[j][i]])\n",
        "\n",
        "            if i == 0:\n",
        "                intermediate_list[0] = intermediate_list[0] * list_of_sign[j]\n",
        "            if i == size - 1:\n",
        "                permutate_list.append(intermediate_list)\n",
        "\n",
        "    return permutate_list\n",
        "\n",
        "\n",
        "def calculation_of_product(permutate_list):\n",
        "    '''\n",
        "    This function works with inversions and performs a multiplication operation\n",
        "    '''\n",
        "    calculation_of_product=[]\n",
        "    for el in permutate_list:\n",
        "        calculation_of_product.append(functools.reduce(lambda a,b: a*b,el))\n",
        "    return calculation_of_product\n",
        "\n",
        " \n",
        "def general_sum(calculation_of_product):\n",
        "    '''\n",
        "    This function collects results together\n",
        "    '''\n",
        "    general_sum = sum(calculation_of_product)\n",
        "    return general_sum\n",
        "\n",
        "\n",
        "size = check_input()\n",
        "matrix = random_matrix(size)\n",
        "\n",
        "print(matrix)\n",
        "print('-' * 80)\n",
        "\n",
        "print(\"det A = \", general_sum(calculation_of_product(permutate_list(size, matrix))))"
      ]
    }
  ],
  "metadata": {
    "colab": {
      "collapsed_sections": [],
      "name": "Practice_7_KM-01_.ipynb",
      "provenance": []
    },
    "kernelspec": {
      "display_name": "Python 3",
      "language": "python",
      "name": "python3"
    },
    "language_info": {
      "codemirror_mode": {
        "name": "ipython",
        "version": 3
      },
      "file_extension": ".py",
      "mimetype": "text/x-python",
      "name": "python",
      "nbconvert_exporter": "python",
      "pygments_lexer": "ipython3",
      "version": "3.7.8"
    },
    "vscode": {
      "interpreter": {
        "hash": "0a54084e6b208ee8d1ce3989ffc20924477a5f55f5a43e22e699a6741623861e"
      }
    }
  },
  "nbformat": 4,
  "nbformat_minor": 0
}
