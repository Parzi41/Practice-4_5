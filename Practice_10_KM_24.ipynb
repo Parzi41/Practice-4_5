{
  "cells": [
    {
      "cell_type": "markdown",
      "metadata": {
        "id": "FMqboNwO4rVs"
      },
      "source": [
        "# **Курс \"Програмування на мові Python\"**"
      ]
    },
    {
      "cell_type": "markdown",
      "metadata": {
        "id": "A2T6MigL5Z06"
      },
      "source": [
        "## **Практичне зайняття №10**\n",
        "\n",
        "### Тема: \"Лямбда-функції. Функції вищих порядків\""
      ]
    },
    {
      "cell_type": "markdown",
      "metadata": {
        "id": "cfCdgK2zXm7e"
      },
      "source": [
        "### **Завдання 1 (1 бал)**\n",
        "\n",
        "Продавець роздрібного товару влаштовує розпродаж. Для всіх товарів знижка однакова - 60%. Щоб вивісити нові цінники, продавець хоче скласти таблицю, в якій для кожного товару буде підрахована його нова вартість та сума знижки.\n",
        "\n",
        "Написати програму, яка буде генерувати таку таблицю. Вартість одиниць товарів до розпродажу подано у списку products_list. \n",
        "\n",
        "1. Для підрахунку невідомих значень повинні використовуватись вбудовані функції вищих порядків.\n",
        "\n",
        "2. Вартість з урахуванням знижки та суми знижок для кожного товару повинні зберігатись у двох окремих списках. Порядок товарів у нових списках повинен бути такий самий, як і в списку products_list.\n",
        "\n",
        "3. Кожне підраховане числове значення має бути округлене до сотих.\n",
        "\n",
        "4. Дані повинні виводитись у вигляді:\n",
        "\n",
        "**Discount table:**\n",
        "\n",
        "**15.89 6.36 9.53**\n",
        "\n",
        "**39.99 16.0 23.99**\n",
        "\n",
        "**...**\n",
        "\n",
        "\n",
        "products_list = [15.89, 39.99, 82.10, 135.85, 318.90, 510.00, 799.98]"
      ]
    },
    {
      "cell_type": "code",
      "execution_count": 10,
      "metadata": {
        "id": "ifNX2M7LXm7f"
      },
      "outputs": [
        {
          "name": "stdout",
          "output_type": "stream",
          "text": [
            "7\n",
            "Discount table:\n",
            "9.53 23.99 49.26 81.51 191.34 306.0 479.99\n",
            "6.36 16.0 32.84 54.34 127.56 204.0 319.99\n"
          ]
        }
      ],
      "source": [
        "products_list = [15.89, 39.99, 82.10, 135.85, 318.90, 510.00, 799.98]\n",
        "sale_price = []\n",
        "amount_discount = []\n",
        "\n",
        "print(len(products_list))\n",
        "\n",
        "for i in range(len(products_list)):\n",
        "    sale_price.append(round((products_list[i] * 60) / 100, 2))\n",
        "    amount_discount.append(round(products_list[i] - sale_price[i], 2))\n",
        "\n",
        "print(\"Discount table:\")\n",
        "print(*sale_price)\n",
        "print(*amount_discount)"
      ]
    },
    {
      "cell_type": "markdown",
      "metadata": {},
      "source": [
        "### **Завдання 2 (2 бали)**\n",
        "\n",
        "Зазвичай рік має 365 днів. Однак у високосні роки додається ще один день - 29 лютого. Правила визначення високосного року такі:\n",
        "\n",
        "- Будь-який рік, що ділиться на 400 - високосний.\n",
        "\n",
        "- З тих років, що залишились, будь-який рік, що ділиться на 100 - **не** високосний.\n",
        "\n",
        "- З тих років, що залишились, будь-який рік, що ділиться на 4 - високосний.\n",
        "\n",
        "- Усі інші роки, що залишились - **не** високосні.\n",
        "\n",
        "1) Створіть функцію, в якій за допомогою вбудованих функцій вищих порядків будуть визначатися високосні роки серед перелічених років у списку years. Створена функція має повертати список високосних років.\n",
        "\n",
        "2) Створіть функцію вищих порядків, яка прийматиме на вхід попередню функцію та визначатиме кількість днів у місяці. Також функція повинна приймати на вхід ще 2 параметри: ціле число від 1 до 12 (місяць) та рік, як ціле чотирицифрове число. Ці значення корисувач має вводити з клавіатури. Перевірку введених даних слід виконувати поза межами функцій."
      ]
    },
    {
      "cell_type": "code",
      "execution_count": 3,
      "metadata": {},
      "outputs": [
        {
          "name": "stdout",
          "output_type": "stream",
          "text": [
            "The leap years: [1904, 1908, 1912, 1916, 1920, 1924, 1928, 1932, 1936, 1940, 1944, 1948, 1952, 1956, 1960, 1964, 1968, 1972, 1976, 1980, 1984, 1988, 1992, 1996, 2000, 2004, 2008, 2012, 2016, 2020]\n",
            "There are 31 days in this month\n"
          ]
        }
      ],
      "source": [
        "import numpy as np\n",
        "from math import inf\n",
        "\n",
        "def check_month():\n",
        "    check = False\n",
        "    while not check:\n",
        "        i = int(input(\"Enter month:\"))\n",
        "        if i >= 1 and i <= 12:\n",
        "            check = True\n",
        "        else:\n",
        "            print(\"Error! Enter correct data!\")\n",
        "    return i\n",
        "\n",
        "\n",
        "def leap_year(years):\n",
        "    if len(years) == 1:\n",
        "        years.append(1)\n",
        "    leap_year_list = list()\n",
        "    leap_year_list = list(filter(lambda x: (x%400==0) or (x%4==0 and x%100!=0), years))\n",
        "    return leap_year_list\n",
        "\n",
        "def number_of_days_in_month(function,month,year):\n",
        "    all_month={ \n",
        "                1:31,\n",
        "                2:28,\n",
        "                3:31,\n",
        "                4:30,\n",
        "                5:31,\n",
        "                6:30,\n",
        "                7:31,\n",
        "                8:31,\n",
        "                9:30,\n",
        "                10:31,\n",
        "                11:30,\n",
        "                12:31\n",
        "    }\n",
        "    year = function([year])\n",
        "    if not year:\n",
        "        return all_month[month]\n",
        "    else:\n",
        "        all_month[2] = 29\n",
        "        return all_month[month]\n",
        "\n",
        "\n",
        "years = np.arange(1900, 2020+1, 1)\n",
        "\n",
        "result1 = leap_year(years)\n",
        "print(f\"The leap years: {result1}\")\n",
        "\n",
        "month = check_month()\n",
        "year = int(input(\"Enter year:\"))\n",
        "result2 = number_of_days_in_month(leap_year,month,year)\n",
        "print(f'There are {result2} days in this month')"
      ]
    }
  ],
  "metadata": {
    "colab": {
      "collapsed_sections": [],
      "name": "Practice_7_KM-01_.ipynb",
      "provenance": []
    },
    "kernelspec": {
      "display_name": "Python 3",
      "language": "python",
      "name": "python3"
    },
    "language_info": {
      "codemirror_mode": {
        "name": "ipython",
        "version": 3
      },
      "file_extension": ".py",
      "mimetype": "text/x-python",
      "name": "python",
      "nbconvert_exporter": "python",
      "pygments_lexer": "ipython3",
      "version": "3.7.8"
    },
    "vscode": {
      "interpreter": {
        "hash": "0a54084e6b208ee8d1ce3989ffc20924477a5f55f5a43e22e699a6741623861e"
      }
    }
  },
  "nbformat": 4,
  "nbformat_minor": 0
}
