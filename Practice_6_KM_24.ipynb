{
  "cells": [
    {
      "cell_type": "markdown",
      "metadata": {
        "id": "FMqboNwO4rVs"
      },
      "source": [
        "# **Курс \"Програмування на мові Python\"**"
      ]
    },
    {
      "cell_type": "markdown",
      "metadata": {
        "id": "A2T6MigL5Z06"
      },
      "source": [
        "## **Практичне зайняття №6**\n",
        "### Тема: \"Робота з кортежами, множинами та словниками\""
      ]
    },
    {
      "cell_type": "markdown",
      "metadata": {
        "id": "4AV5CN7N4xja"
      },
      "source": [
        "### **Завдання 1 (1,5 бали)**\n",
        "\n",
        "Напишіть програму, яка визначала б, чи можна з літер однієї фрази скласти іншу фразу. Наприклад:\n",
        "\n",
        "\"William Shakespeare\" -> \"A small spark\"\n",
        "\n",
        "Перша фраза містить 11 унікальних літер (хоча деякі повторюються): a, e, h, i, k, l, m, p, r, s та w. Друга фраза містить 7 унікальних літер: a, k, l, m, p, r та s. Кожна з літер другої фрази зустрічається принаймні один раз у першій фразі.\n",
        "\n",
        "1. Обидві фрази повинні вводитись користувачем з клавіатури.\n",
        "\n",
        "2. Скористайтесь властивістю множин у мові програмування Python для виділення колекції унікальних літер.\n",
        "\n",
        "3. У множину не повинні потрапити пробіли, розділові знаки та інші символи, що не є літерами (скористайтесь методом **isalpha()**). Також усі літери мають бути переведені в нижній або верхній регістр (скористайтесь методами **lower()** або **upper()**).\n",
        "\n",
        "4. Зверніть увагу на те, що літери як в першій, так і вдругій фразі можуть повторюватись. Однак множина унікальних літер другої фрази повинна бути підмножиною множини унікальних літер першої фрази.\n",
        "\n",
        "5. У складі змістовного повідомлення програма повинна виводити множину літер першої фрази, множину літер другої фрази, а також змістовне повідомлення про те, чи можна скласти з літер першої фрази другу фразу."
      ]
    },
    {
      "cell_type": "code",
      "execution_count": 2,
      "metadata": {
        "id": "9Mesp1jV4xjb"
      },
      "outputs": [
        {
          "name": "stdout",
          "output_type": "stream",
          "text": [
            "{'r', 'p', 'l', 'i', 'o', 'a', 'v', 'b', 'z', 'k'}\n",
            "{'r', 'p', 'i', 'a', 'z'}\n",
            "You can create phrase!\n"
          ]
        }
      ],
      "source": [
        "def check(word):\n",
        "    ch = False\n",
        "    while not ch:\n",
        "        word = ''.join(word.split())\n",
        "        if word.isalpha() == True:\n",
        "            ch = True\n",
        "    return word\n",
        "\n",
        "def comp(word1,word2):\n",
        "\tfind=False\n",
        "\tfor el in word2:\n",
        "\t\tif el in word1:\n",
        "\t\t\tfind=True\n",
        "\t\telse:\n",
        "\t\t\treturn False\n",
        "\treturn find\n",
        "\n",
        "word1 = input(\"Enter first phrase: \")\n",
        "word2 = input(\"Enter second phrase: \")\n",
        "\n",
        "word1 = check(word1)\n",
        "word2 = check(word2)\n",
        "\n",
        "word1 = word1.lower()\n",
        "word2 = word2.lower()\n",
        "\n",
        "word1 = set(word1)\n",
        "word2 = set(word2)\n",
        "\n",
        "find = comp(word1, word2)\n",
        "\n",
        "if find == True:\n",
        "    print(word1)\n",
        "    print(word2)\n",
        "    print(\"You can create phrase!\")\n",
        "\n",
        "if find == False:\n",
        "    print(word1)\n",
        "    print(word2)\n",
        "    print(\"You cant create phrase!\")\n"
      ]
    },
    {
      "cell_type": "markdown",
      "metadata": {
        "id": "y7pQFLvSCkym"
      },
      "source": [
        "### **Завдання 2 (1,5 бали)**\n",
        "\n",
        "У Канаді поштові індекси мають специфічну форму. Вони складаються з трьох символів. Перший символ вказує на провінцію. Другий символ вказує на те, у міській чи у сільській місцевості знаходиться адресат. Якщо у сільській місцевості - це 0. Якщо у міській - будь-яка інша цифра. Провінція позначається великою латинською літерою. Повний перелік провінцій на літер, що їм відповідають, подано у таблиці.\n",
        "\n",
        "Провінція | Перший символ поштового індекса\n",
        "--- | ---\n",
        "Newfoundland | A\n",
        "Nova Scotia | B\n",
        "Prince Edward Island | C\n",
        "New Brunswick | E\n",
        "Quebec | G, H and J\n",
        "Ontario | K, L, M, N and P\n",
        "Manitoba | R\n",
        "Saskatchewan | S\n",
        "Alberta | T\n",
        "British Columbia | V\n",
        "Nunavut | X\n",
        "Northwest Territories | X\n",
        "Yukon | Y\n",
        "\n",
        "Напишіть програму, яка зчитує поштовий індекс, введений користувачем, та виводить у складі змістовного повідомлення провінцію адресата та інформацію про те, у міській чи у сільській місцевості він знаходиться. Наприклад, якщо користувач вводить T2N, програма повинна визначити, що адресат знаходиться у міській місцевості провінції Альберта. Якщо він вводить X0A, адресат знаходиться у сільській місцевості провінції Нанавут або Північних Територій (зверніть увагу на те, що літера X повторюється для двох провінцій). Третя літера для нас неважлива. Зауважте, що літери D, F, I, O, Q, U, W, та Z не позначають жодної з провінцій Канади.\n",
        "\n",
        "1. Скористайтесь словником для збереження усіх провінцій та літер, що їм відповідають.\n",
        "\n",
        "2. Користувач повинен ввести рівно 3 символи. Перший і останній символи мають бути літерами, другий - цифрою. Для перевірки скористайтесь методами **isalpha()** та **isdigit()**. Якщо користувач введе не 3 символи, а більше чи менше, або ж послідовність літер та цифр не буде співпадати з шаблоном, програма має вивести повідомлення про помилку.\n",
        "\n",
        "3. Програма повинна приймати літери як верхнього, так і нижнього регістрів. Однак виводити - лише у верхньому регістрі (скористайтесь методами **lower()** або **upper()**)."
      ]
    },
    {
      "cell_type": "code",
      "execution_count": 3,
      "metadata": {
        "id": "EVY800vg4xjg"
      },
      "outputs": [
        {
          "name": "stdout",
          "output_type": "stream",
          "text": [
            "Your index is:  X0A\n",
            "Province is  Nunavut or Northwest Territories\n",
            "You are in the countryside.\n"
          ]
        }
      ],
      "source": [
        "province = { \t\t\t\n",
        "\t\t\t\"A\": 'Newfoundland',\n",
        "\t\t\t\"B\":\"Nova Scotia\",\n",
        "\t\t\t\"C\":\"Prince Edward Island\",\n",
        "\t\t\t\"E\":\"New Brunswick\",\n",
        "\t\t\t'J':\"Quebec\",\n",
        "\t\t\t\"G\":\"Quebec\",\n",
        "\t\t\t\"H\":\"Quebec\",\n",
        "\t\t\t'K':\"Ontario\",\n",
        "\t\t\t\"L\":\"Ontario\",\n",
        "\t\t\t\"M\":\"Ontario\",\n",
        "\t\t\t\"N\":\"Ontario\",\n",
        "\t\t\t\"P\":\"Ontario\",\n",
        "\t\t\t\"R\":\"Manitoba\",\n",
        "\t\t\t'S':\"Saskatchewan\",\n",
        "\t\t\t\"T\":\"Alberta\",\n",
        "\t\t\t\"V\":\"British Columbia\",\n",
        "\t\t\t\"X\":\"Nunavut or Northwest Territories\",\n",
        "\t\t\t\"Y\":\"Yukon\"\n",
        "}\n",
        "\n",
        "check = False\n",
        "\n",
        "index = input(\"Enter your zip code: \")\n",
        "index = index.strip()\n",
        "\n",
        "while not check:\n",
        "\tif index.isalnum() == False:\n",
        "\t\tindex = input(\"Error! Try again: \")\n",
        "\n",
        "\telif len(index) != 3:\n",
        "\t\tindex = input(\"Error! Try again: \")\n",
        "\n",
        "\telif index[0].isalpha() == False or index[1].isdigit() == False:\n",
        "\t\tindex = input(\"Error! Try again: \")\n",
        "\n",
        "\telse:\n",
        "\t\tcheck=True\n",
        "\n",
        "index = index.upper()\n",
        "\n",
        "print(\"Your index is: \", index)\n",
        "\n",
        "if index[0] in province:\n",
        "\tprint(\"Province is \", province[index[0]])\n",
        "\n",
        "\tif index[1] =='0':\n",
        "\t\tprint(\"You are in the countryside.\")\n",
        "\n",
        "\telif index[1] !='0':\n",
        "\t\tprint(\"You are in the urban area.\")\n",
        "\t\t\n",
        "else:\n",
        "\tprint(\"We have no information about your zip code!\")"
      ]
    }
  ],
  "metadata": {
    "colab": {
      "collapsed_sections": [],
      "name": "Practice_5_KM_04_.ipynb",
      "provenance": []
    },
    "kernelspec": {
      "display_name": "Python 3",
      "language": "python",
      "name": "python3"
    },
    "language_info": {
      "codemirror_mode": {
        "name": "ipython",
        "version": 3
      },
      "file_extension": ".py",
      "mimetype": "text/x-python",
      "name": "python",
      "nbconvert_exporter": "python",
      "pygments_lexer": "ipython3",
      "version": "3.7.8"
    },
    "vscode": {
      "interpreter": {
        "hash": "0a54084e6b208ee8d1ce3989ffc20924477a5f55f5a43e22e699a6741623861e"
      }
    }
  },
  "nbformat": 4,
  "nbformat_minor": 2
}
